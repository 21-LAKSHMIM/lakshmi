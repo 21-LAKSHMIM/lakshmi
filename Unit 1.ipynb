{
  "metadata": {
    "language_info": {
      "codemirror_mode": {
        "name": "python",
        "version": 3
      },
      "file_extension": ".py",
      "mimetype": "text/x-python",
      "name": "python",
      "nbconvert_exporter": "python",
      "pygments_lexer": "ipython3",
      "version": "3.8"
    },
    "kernelspec": {
      "name": "python",
      "display_name": "Python (Pyodide)",
      "language": "python"
    }
  },
  "nbformat_minor": 4,
  "nbformat": 4,
  "cells": [
    {
      "cell_type": "code",
      "source": "teststr=\"Lakshmi\"\nnew_str = \"\"\nfor i in range(len(teststr)):\n    if i != 2:\n        new_str = new_str + teststr[i]\n    print (\"The string after removal of i'th character : \" + new_str)\n",
      "metadata": {
        "trusted": true
      },
      "execution_count": 1,
      "outputs": [
        {
          "name": "stdout",
          "text": "The string after removal of i'th character : L\nThe string after removal of i'th character : La\nThe string after removal of i'th character : La\nThe string after removal of i'th character : Las\nThe string after removal of i'th character : Lash\nThe string after removal of i'th character : Lashm\nThe string after removal of i'th character : Lashmi\n",
          "output_type": "stream"
        }
      ]
    },
    {
      "cell_type": "code",
      "source": "def multiplication_or_sum(num1, num2):\n    product = num1 * num2\n    if product <=1000:\n        return product\n    else:\n        return num1 + num2\n\nresult = multiplication_or_sum(20,30)\nprint(\"The result is = \", result)\nresult = multiplication_or_sum(50,10)\nprint(\"The result is = \", result)\n",
      "metadata": {
        "trusted": true
      },
      "execution_count": 2,
      "outputs": [
        {
          "name": "stdout",
          "text": "The result is =  600\nThe result is =  500\n",
          "output_type": "stream"
        }
      ]
    },
    {
      "cell_type": "code",
      "source": "num = 0\nfor i in range(10):\n    sum = num + i\n    print(f'Current number {i} Previous Number {num} is {sum}')\n    num = i\n",
      "metadata": {
        "trusted": true
      },
      "execution_count": 3,
      "outputs": [
        {
          "name": "stdout",
          "text": "Current number 0 Previous Number 0 is 0\nCurrent number 1 Previous Number 0 is 1\nCurrent number 2 Previous Number 1 is 3\nCurrent number 3 Previous Number 2 is 5\nCurrent number 4 Previous Number 3 is 7\nCurrent number 5 Previous Number 4 is 9\nCurrent number 6 Previous Number 5 is 11\nCurrent number 7 Previous Number 6 is 13\nCurrent number 8 Previous Number 7 is 15\nCurrent number 9 Previous Number 8 is 17\n",
          "output_type": "stream"
        }
      ]
    },
    {
      "cell_type": "code",
      "source": "print(\"Please enter text to print::\")\ninputchars = input()\nif inputchars:\n    string = \"\"\n     for i in inputchars:\n            if inputchars.index(i)%2 == 0:\n                 string += str(i)\n                     print(\"You Entered:\", inputchars)\n                    print(\"Result:\")\n                    print(string)\n",
      "metadata": {
        "trusted": true
      },
      "execution_count": null,
      "outputs": []
    },
    {
      "cell_type": "code",
      "source": "nums = [] \nfor i in range(5): \n    num = int(input('Give me a number:')) \n    nums.append(num) \n \n for i in nums: \n    if i % 5 == 0: \n        print(i)\n",
      "metadata": {
        "trusted": true
      },
      "execution_count": null,
      "outputs": []
    },
    {
      "cell_type": "code",
      "source": "message = 'My name is Lakshmi'\nprint('Number of occurrence of is:', message.count('is'))\n",
      "metadata": {
        "trusted": true
      },
      "execution_count": 6,
      "outputs": [
        {
          "name": "stdout",
          "text": "Number of occurrence of is: 1\n",
          "output_type": "stream"
        }
      ]
    },
    {
      "cell_type": "code",
      "source": "print('My', 'Name', 'Is', 'James', sep='**')\n",
      "metadata": {
        "trusted": true
      },
      "execution_count": 7,
      "outputs": [
        {
          "name": "stdout",
          "text": "My**Name**Is**James\n",
          "output_type": "stream"
        }
      ]
    },
    {
      "cell_type": "code",
      "source": "num = 8\nprint('%o' % num)\n",
      "metadata": {
        "trusted": true
      },
      "execution_count": 8,
      "outputs": [
        {
          "name": "stdout",
          "text": "10\n",
          "output_type": "stream"
        }
      ]
    },
    {
      "cell_type": "code",
      "source": "numbers = []\nfor i in range(0, 5):\n    print(\"Enter number at location\", i, \":\")\n    item = float(input())\n    numbers.append(item)\nprint(\"User List:\", numbers)\n",
      "metadata": {
        "trusted": true
      },
      "execution_count": null,
      "outputs": []
    },
    {
      "cell_type": "code",
      "source": "a, b, c = input(\"Enter three values: \").split()\nprint(\"Enter Your First Name: \", a)  \nprint(\"Enter Your Last Name: \", b)  \nprint(\"Enter Your Class: \", c)  \nprint(\"First name {},Second name {}, Class {}\".format(a,b,c))\n",
      "metadata": {
        "trusted": true
      },
      "execution_count": null,
      "outputs": []
    },
    {
      "cell_type": "code",
      "source": "for income in [5000,10000,16777]:\n\n    if income <= 10_000:\n        tax = 0\n    elif income <= 20_000: \n        tax = (income - 10_000) * 0.1              \n    else:\n        tax = (income-20_000) * 0.2 +  10_000*0.1  \n\n    print(f\"For income {income}, You owe {tax} dollars in tax!\" )\n",
      "metadata": {
        "trusted": true
      },
      "execution_count": 9,
      "outputs": [
        {
          "name": "stdout",
          "text": "For income 5000, You owe 0 dollars in tax!\nFor income 10000, You owe 0 dollars in tax!\nFor income 16777, You owe 677.7 dollars in tax!\n",
          "output_type": "stream"
        }
      ]
    },
    {
      "cell_type": "code",
      "source": "username=input(\"Enter Your Name: \")\nif username=='Bond':\n     print(\"Welcome on board 007.\")\nelse:\n    print(\"Good morning\",username)\n",
      "metadata": {
        "trusted": true
      },
      "execution_count": 10,
      "outputs": [
        {
          "name": "stdout",
          "text": "Good morning <PyodideFuture pending cb=[WebLoop._decrement_in_progress()]>\n",
          "output_type": "stream"
        }
      ]
    },
    {
      "cell_type": "code",
      "source": "a = [1, 2, 3, 4, 5] \nfor x in range(len(a)): \n    print (a[x])\n",
      "metadata": {
        "trusted": true
      },
      "execution_count": 11,
      "outputs": [
        {
          "name": "stdout",
          "text": "1\n2\n3\n4\n5\n",
          "output_type": "stream"
        }
      ]
    },
    {
      "cell_type": "code",
      "source": "num = 75869\ncount = 0\nwhile num != 0:\n    num = num // 10\n    count = count + 1\nprint(\"Total digits are:\", count)\n",
      "metadata": {
        "trusted": true
      },
      "execution_count": 12,
      "outputs": [
        {
          "name": "stdout",
          "text": "Total digits are: 5\n",
          "output_type": "stream"
        }
      ]
    },
    {
      "cell_type": "code",
      "source": "for num in range(-10, 0, 1):\n    print(num)\n",
      "metadata": {
        "trusted": true
      },
      "execution_count": 13,
      "outputs": [
        {
          "name": "stdout",
          "text": "-10\n-9\n-8\n-7\n-6\n-5\n-4\n-3\n-2\n-1\n",
          "output_type": "stream"
        }
      ]
    },
    {
      "cell_type": "code",
      "source": "for i in range(5):\n    print(i)\nelse:\n    print(\"Done!\")\n",
      "metadata": {
        "trusted": true
      },
      "execution_count": 14,
      "outputs": [
        {
          "name": "stdout",
          "text": "0\n1\n2\n3\n4\nDone!\n",
          "output_type": "stream"
        }
      ]
    },
    {
      "cell_type": "code",
      "source": "quantity = 3\ntotalMoney = 1000\nprice = 450\nstatement1 = \"I have {1} dollars so I can buy {0} football for {2:.2f} dollars.\"\nprint(statement1.format(quantity, totalMoney, price))\n",
      "metadata": {
        "trusted": true
      },
      "execution_count": 15,
      "outputs": [
        {
          "name": "stdout",
          "text": "I have 1000 dollars so I can buy 3 football for 450.00 dollars.\n",
          "output_type": "stream"
        }
      ]
    },
    {
      "cell_type": "code",
      "source": "string = input(\"Please Enter your Own String : \")\nalphabets = digits = special = 0\n\nfor i in range(len(string)):\n    if(string[i].isalpha()):\n        alphabets = alphabets + 1\n    elif(string[i].isdigit()):\n        digits = digits + 1\n    else:\n        special = special + 1\n        \nprint(\"\\nTotal Number of Alphabets in this String :  \", alphabets)\nprint(\"Total Number of Digits in this String :  \", digits)\nprint(\"Total Number of Special Characters in this String :  \", special)\n",
      "metadata": {
        "trusted": true
      },
      "execution_count": null,
      "outputs": []
    },
    {
      "cell_type": "code",
      "source": "list = [31, 42, 13, 34, 85, 0, 99, 1, 3]\nprint(\"The list is :\")\nprint(list)\nprint(\"The elements in odd positions are : \")\nfor i in range(1, len(list), 2):\n   print(list[i])\n",
      "metadata": {
        "trusted": true
      },
      "execution_count": 16,
      "outputs": [
        {
          "name": "stdout",
          "text": "The list is :\n[31, 42, 13, 34, 85, 0, 99, 1, 3]\nThe elements in odd positions are : \n42\n34\n0\n1\n",
          "output_type": "stream"
        }
      ]
    },
    {
      "cell_type": "code",
      "source": "test_str = 'helloworld'\n\nprint(\"The original string is : \" + str(test_str))\nmid_str = \"python\"\n\ntemp = test_str.split()\nmid_pos = len(temp) // 2\n\nres = temp[:mid_pos] + [mid_str] + temp[mid_pos:]\n\nres = ' '.join(res)\n \nprint(\"Formulated String : \" + str(res))\n",
      "metadata": {
        "trusted": true
      },
      "execution_count": 17,
      "outputs": [
        {
          "name": "stdout",
          "text": "The original string is : helloworld\nFormulated String : python helloworld\n",
          "output_type": "stream"
        }
      ]
    },
    {
      "cell_type": "code",
      "source": "str1 = \"Lakshmi\"\nprint(\"The original string is : \" + str(str1))\nres = str1[0].lower() + str1[1:]\nprint(\"The string after lowercasing initial character : \" + str(res))\n",
      "metadata": {
        "trusted": true
      },
      "execution_count": 18,
      "outputs": [
        {
          "name": "stdout",
          "text": "The original string is : Lakshmi\nThe string after lowercasing initial character : lakshmi\n",
          "output_type": "stream"
        }
      ]
    },
    {
      "cell_type": "code",
      "source": "str1 = \"Welcome to INDIA. India awesome, isn't it?\"\nsub_string = \"INDIA\"\ntemp_str = str1.lower()\ncount = temp_str.count(sub_string.lower())\nprint(\"The INDIA count is:\", count)\n",
      "metadata": {
        "trusted": true
      },
      "execution_count": 19,
      "outputs": [
        {
          "name": "stdout",
          "text": "The INDIA count is: 2\n",
          "output_type": "stream"
        }
      ]
    },
    {
      "cell_type": "code",
      "source": "str1 = \"Apple\"\nchar_dict = dict()\nfor char in str1:\n    count = str1.count(char)\n    char_dict[char] = count\nprint('Result:', char_dict)\n",
      "metadata": {
        "trusted": true
      },
      "execution_count": 20,
      "outputs": [
        {
          "name": "stdout",
          "text": "Result: {'A': 1, 'p': 2, 'l': 1, 'e': 1}\n",
          "output_type": "stream"
        }
      ]
    },
    {
      "cell_type": "code",
      "source": "list1 = [\"M\", \"na\", \"i\", \"Laks\"] \nlist2 = [\"y\", \"me\", \"s\", \"hmi\"]\nlist3 = [i + j for i, j in zip(list1, list2)]\nprint(list3)\n",
      "metadata": {
        "trusted": true
      },
      "execution_count": 21,
      "outputs": [
        {
          "name": "stdout",
          "text": "['My', 'name', 'is', 'Lakshmi']\n",
          "output_type": "stream"
        }
      ]
    },
    {
      "cell_type": "code",
      "source": "numbers = [1, 2, 3, 4, 5, 6, 7]\nres = []\nfor i in numbers:\n    res.append(i * i)\nprint(res)\n",
      "metadata": {
        "trusted": true
      },
      "execution_count": 22,
      "outputs": [
        {
          "name": "stdout",
          "text": "[1, 4, 9, 16, 25, 36, 49]\n",
          "output_type": "stream"
        }
      ]
    },
    {
      "cell_type": "code",
      "source": "l1 = [10, 20, 30, 40]\nl2 = [100, 200, 300, 400]\n\nfor x, y in zip(l1, l2[::-1]):\n    print(x, y)\n",
      "metadata": {
        "trusted": true
      },
      "execution_count": 23,
      "outputs": [
        {
          "name": "stdout",
          "text": "10 400\n20 300\n30 200\n40 100\n",
          "output_type": "stream"
        }
      ]
    },
    {
      "cell_type": "code",
      "source": "list1 = [\"Mike\", \"\", \"Emma\", \"Kelly\", \"\", \"Brad\"]\nres = list1(filter(None, list1))\nprint(res)\n",
      "metadata": {
        "trusted": true
      },
      "execution_count": 24,
      "outputs": [
        {
          "ename": "<class 'TypeError'>",
          "evalue": "'list' object is not callable",
          "traceback": [
            "\u001b[0;31m---------------------------------------------------------------------------\u001b[0m",
            "\u001b[0;31mTypeError\u001b[0m                                 Traceback (most recent call last)",
            "Cell \u001b[0;32mIn[22], line 2\u001b[0m\n\u001b[1;32m      1\u001b[0m list1 \u001b[38;5;241m=\u001b[39m [\u001b[38;5;124m\"\u001b[39m\u001b[38;5;124mMike\u001b[39m\u001b[38;5;124m\"\u001b[39m, \u001b[38;5;124m\"\u001b[39m\u001b[38;5;124m\"\u001b[39m, \u001b[38;5;124m\"\u001b[39m\u001b[38;5;124mEmma\u001b[39m\u001b[38;5;124m\"\u001b[39m, \u001b[38;5;124m\"\u001b[39m\u001b[38;5;124mKelly\u001b[39m\u001b[38;5;124m\"\u001b[39m, \u001b[38;5;124m\"\u001b[39m\u001b[38;5;124m\"\u001b[39m, \u001b[38;5;124m\"\u001b[39m\u001b[38;5;124mBrad\u001b[39m\u001b[38;5;124m\"\u001b[39m]\n\u001b[0;32m----> 2\u001b[0m res \u001b[38;5;241m=\u001b[39m \u001b[43mlist1\u001b[49m\u001b[43m(\u001b[49m\u001b[38;5;28;43mfilter\u001b[39;49m\u001b[43m(\u001b[49m\u001b[38;5;28;43;01mNone\u001b[39;49;00m\u001b[43m,\u001b[49m\u001b[43m \u001b[49m\u001b[43mlist1\u001b[49m\u001b[43m)\u001b[49m\u001b[43m)\u001b[49m\n\u001b[1;32m      3\u001b[0m \u001b[38;5;28mprint\u001b[39m(res)\n",
            "\u001b[0;31mTypeError\u001b[0m: 'list' object is not callable"
          ],
          "output_type": "error"
        }
      ]
    },
    {
      "cell_type": "code",
      "source": "list1 = [\"Mike\", \"\", \"Emma\", \"Kelly\", \"\", \"Brad\"]\nres = list(filter(None, list1))\nprint(res)",
      "metadata": {
        "trusted": true
      },
      "execution_count": 25,
      "outputs": [
        {
          "ename": "<class 'TypeError'>",
          "evalue": "'list' object is not callable",
          "traceback": [
            "\u001b[0;31m---------------------------------------------------------------------------\u001b[0m",
            "\u001b[0;31mTypeError\u001b[0m                                 Traceback (most recent call last)",
            "Cell \u001b[0;32mIn[23], line 2\u001b[0m\n\u001b[1;32m      1\u001b[0m list1 \u001b[38;5;241m=\u001b[39m [\u001b[38;5;124m\"\u001b[39m\u001b[38;5;124mMike\u001b[39m\u001b[38;5;124m\"\u001b[39m, \u001b[38;5;124m\"\u001b[39m\u001b[38;5;124m\"\u001b[39m, \u001b[38;5;124m\"\u001b[39m\u001b[38;5;124mEmma\u001b[39m\u001b[38;5;124m\"\u001b[39m, \u001b[38;5;124m\"\u001b[39m\u001b[38;5;124mKelly\u001b[39m\u001b[38;5;124m\"\u001b[39m, \u001b[38;5;124m\"\u001b[39m\u001b[38;5;124m\"\u001b[39m, \u001b[38;5;124m\"\u001b[39m\u001b[38;5;124mBrad\u001b[39m\u001b[38;5;124m\"\u001b[39m]\n\u001b[0;32m----> 2\u001b[0m res \u001b[38;5;241m=\u001b[39m \u001b[38;5;28;43mlist\u001b[39;49m\u001b[43m(\u001b[49m\u001b[38;5;28;43mfilter\u001b[39;49m\u001b[43m(\u001b[49m\u001b[38;5;28;43;01mNone\u001b[39;49;00m\u001b[43m,\u001b[49m\u001b[43m \u001b[49m\u001b[43mlist1\u001b[49m\u001b[43m)\u001b[49m\u001b[43m)\u001b[49m\n\u001b[1;32m      3\u001b[0m \u001b[38;5;28mprint\u001b[39m(res)\n",
            "\u001b[0;31mTypeError\u001b[0m: 'list' object is not callable"
          ],
          "output_type": "error"
        }
      ]
    },
    {
      "cell_type": "code",
      "source": "l1 = [10, 20, [300, 400, [5000, 6000], 500], 30, 40]\nl1[2][2].append(7000)\nprint(l1)\n",
      "metadata": {
        "trusted": true
      },
      "execution_count": 26,
      "outputs": [
        {
          "name": "stdout",
          "text": "[10, 20, [300, 400, [5000, 6000, 7000], 500], 30, 40]\n",
          "output_type": "stream"
        }
      ]
    },
    {
      "cell_type": "code",
      "source": "num1= input(\"enter first number\")\nnum2=input(\"enter second number\")\nprint(num1,num2)\n",
      "metadata": {
        "trusted": true
      },
      "execution_count": 27,
      "outputs": [
        {
          "name": "stdout",
          "text": "<PyodideFuture pending cb=[WebLoop._decrement_in_progress()]> <PyodideFuture pending cb=[WebLoop._decrement_in_progress()]>\n",
          "output_type": "stream"
        }
      ]
    },
    {
      "cell_type": "code",
      "source": "l1 = [\"a\", \"b\", [\"c\", [\"d\", \"e\", [\"f\", \"g\"], \"k\"], \"l\"], \"m\", \"n\"]\nsub_list = [\"h\", \"i\", \"j\"]\nl1[2][1][2].extend(sub_list)\nprint(l1)\n",
      "metadata": {
        "trusted": true
      },
      "execution_count": 28,
      "outputs": [
        {
          "name": "stdout",
          "text": "['a', 'b', ['c', ['d', 'e', ['f', 'g', 'h', 'i', 'j'], 'k'], 'l'], 'm', 'n']\n",
          "output_type": "stream"
        }
      ]
    },
    {
      "cell_type": "code",
      "source": "l1 = [5, 10, 15, 200, 25, 30, 35]\nindex = l1.index(200)\nl1[index] = 20\nprint(l1)\n",
      "metadata": {
        "trusted": true
      },
      "execution_count": 29,
      "outputs": [
        {
          "name": "stdout",
          "text": "[5, 10, 15, 20, 25, 30, 35]\n",
          "output_type": "stream"
        }
      ]
    },
    {
      "cell_type": "code",
      "source": "l1 = [5, 20, 15, 20, 25, 50, 20]\ndef remove_value(list, val):\n    return [i for i in list if i != val]\nres = remove_value(l1, 20)\nprint(res)\n",
      "metadata": {
        "trusted": true
      },
      "execution_count": 30,
      "outputs": [
        {
          "name": "stdout",
          "text": "[5, 15, 25, 50]\n",
          "output_type": "stream"
        }
      ]
    },
    {
      "cell_type": "code",
      "source": "keys = [\"Abi\", \"Aashish\", \"Varsha\"]\nvalues = [1, 3, 10]\nprint(\"Original key list is : \" + str(keys))\nprint(\"Original value list is : \" + str(values))\nres = {}\nfor key in keys:\n    for value in values:\n        res[key] = value\n        values.remove(value)\n        break\nprint(\"Resultant dictionary is : \" + str(res))\n",
      "metadata": {
        "trusted": true
      },
      "execution_count": 31,
      "outputs": [
        {
          "name": "stdout",
          "text": "Original key list is : ['Abi', 'Aashish', 'Varsha']\nOriginal value list is : [1, 3, 10]\nResultant dictionary is : {'Abi': 1, 'Aashish': 3, 'Varsha': 10}\n",
          "output_type": "stream"
        }
      ]
    },
    {
      "cell_type": "code",
      "source": "def Merge(dict1, dict2):\n    return(dict2.update(dict1))\ndict1 = {'c': 1, 'd': 3}\ndict2 = {'a': 6, 'b': 10}\nprint(Merge(dict1, dict2))\nprint(dict2)\n",
      "metadata": {
        "trusted": true
      },
      "execution_count": 32,
      "outputs": [
        {
          "name": "stdout",
          "text": "None\n{'a': 6, 'b': 10, 'c': 1, 'd': 3}\n",
          "output_type": "stream"
        }
      ]
    },
    {
      "cell_type": "code",
      "source": "Dict = {\n    \"class\": {\n        \"student\": {\n            \"name\": \"Mike\",\n            \"marks\": {\n                \"physics\": 100,\n                \"history\": 80\n            }\n        }\n    }\n}\nprint(Dict['class']['student']['marks']['physics'])\n",
      "metadata": {
        "trusted": true
      },
      "execution_count": 33,
      "outputs": [
        {
          "name": "stdout",
          "text": "100\n",
          "output_type": "stream"
        }
      ]
    },
    {
      "cell_type": "code",
      "source": "Dict = { \n  \"name\": \"Aakash\",\n  \"age\":25, \n  \"salary\": 20000, \n  \"city\": \"Chennai\" }\nkeys = [\"name\", \"salary\"]\nnewDict = {k: Dict[k] for k in keys}\nprint(newDict)\n",
      "metadata": {
        "trusted": true
      },
      "execution_count": 34,
      "outputs": [
        {
          "name": "stdout",
          "text": "{'name': 'Aakash', 'salary': 20000}\n",
          "output_type": "stream"
        }
      ]
    },
    {
      "cell_type": "code",
      "source": "Dict = {\n    \"name\": \"Aakash\",\n    \"age\": 25,\n    \"salary\": 8000,\n    \"city\": \"Bangalore\"\n}\nkeys = [\"name\", \"salary\"]\nDict = {k: Dict[k] for k in Dict.keys() - keys}\nprint(Dict)\n",
      "metadata": {
        "trusted": true
      },
      "execution_count": 35,
      "outputs": [
        {
          "name": "stdout",
          "text": "{'city': 'Bangalore', 'age': 25}\n",
          "output_type": "stream"
        }
      ]
    },
    {
      "cell_type": "code",
      "source": "Dict = {'a': 100, 'b': 200, 'c': 300}\nif 100 in Dict.values():\n    print('200 present in the given dictionary')",
      "metadata": {
        "trusted": true
      },
      "execution_count": 36,
      "outputs": [
        {
          "name": "stdout",
          "text": "200 present in the given dictionary\n",
          "output_type": "stream"
        }
      ]
    },
    {
      "cell_type": "code",
      "source": "Dict = {\n    \"name\": \"Akshaya\",\n    \"age\": 20,\n    \"salary\": 9000,\n    \"city\": \"Hyderabad\"\n}\nDict['location'] = Dict.pop('city')\nprint(Dict)\n",
      "metadata": {
        "trusted": true
      },
      "execution_count": 37,
      "outputs": [
        {
          "name": "stdout",
          "text": "{'name': 'Akshaya', 'age': 20, 'salary': 9000, 'location': 'Hyderabad'}\n",
          "output_type": "stream"
        }
      ]
    },
    {
      "cell_type": "code",
      "source": "Dict = {\n    'Physics': 82,\n    'Maths': 65,\n    'history': 75\n}\nprint(min(Dict, key=Dict.get))\n",
      "metadata": {
        "trusted": true
      },
      "execution_count": 38,
      "outputs": [
        {
          "name": "stdout",
          "text": "Maths\n",
          "output_type": "stream"
        }
      ]
    },
    {
      "cell_type": "code",
      "source": "Dict = {\n    'emp1': {'name': 'Lakshmi', 'salary': 12000},\n    'emp2': {'name': 'Praga', 'salary': 14000},\n    'emp3': {'name': 'Shwetha', 'salary': 16000}\n}\nDict['emp2']['salary'] = 18000\nprint(Dict)\n",
      "metadata": {
        "trusted": true
      },
      "execution_count": 39,
      "outputs": [
        {
          "name": "stdout",
          "text": "{'emp1': {'name': 'Lakshmi', 'salary': 12000}, 'emp2': {'name': 'Praga', 'salary': 18000}, 'emp3': {'name': 'Shwetha', 'salary': 16000}}\n",
          "output_type": "stream"
        }
      ]
    },
    {
      "cell_type": "code",
      "source": "t1 = (10, 20, 30, 40, 50)\nt1 = t1[::-1]\nprint(t1)\n",
      "metadata": {
        "trusted": true
      },
      "execution_count": 40,
      "outputs": [
        {
          "name": "stdout",
          "text": "(50, 40, 30, 20, 10)\n",
          "output_type": "stream"
        }
      ]
    },
    {
      "cell_type": "code",
      "source": "t1 = (\"Black\", [10, 20, 30], (5, 15, 25))\nprint(t1[1][1])\n",
      "metadata": {
        "trusted": true
      },
      "execution_count": 41,
      "outputs": [
        {
          "name": "stdout",
          "text": "20\n",
          "output_type": "stream"
        }
      ]
    },
    {
      "cell_type": "code",
      "source": "t1= (50)\nprint(t1)\n",
      "metadata": {
        "trusted": true
      },
      "execution_count": 42,
      "outputs": [
        {
          "name": "stdout",
          "text": "50\n",
          "output_type": "stream"
        }
      ]
    },
    {
      "cell_type": "code",
      "source": "t1 = (10, 20, 30, 40)\na, b, c, d = t1\nprint(a)\nprint(b)\nprint(c)\nprint(d)\n",
      "metadata": {
        "trusted": true
      },
      "execution_count": 43,
      "outputs": [
        {
          "name": "stdout",
          "text": "10\n20\n30\n40\n",
          "output_type": "stream"
        }
      ]
    },
    {
      "cell_type": "code",
      "source": "t1 = (18, 20)\nt2 = (4, 97)\nt1, t2 = t2, t1\nprint(t2)\nprint(t1)\n",
      "metadata": {
        "trusted": true
      },
      "execution_count": 44,
      "outputs": [
        {
          "name": "stdout",
          "text": "(18, 20)\n(4, 97)\n",
          "output_type": "stream"
        }
      ]
    },
    {
      "cell_type": "code",
      "source": "t1 = (10, 20, 30, 40, 50, 60)\nt2 = t1[3:-1]\nprint(t2)\n",
      "metadata": {
        "trusted": true
      },
      "execution_count": 45,
      "outputs": [
        {
          "name": "stdout",
          "text": "(40, 50)\n",
          "output_type": "stream"
        }
      ]
    },
    {
      "cell_type": "code",
      "source": "t1 = (11, [22, 33], 44, 55)\nt1[1][0] = 222\nprint(t1)\n",
      "metadata": {
        "trusted": true
      },
      "execution_count": 46,
      "outputs": [
        {
          "name": "stdout",
          "text": "(11, [222, 33], 44, 55)\n",
          "output_type": "stream"
        }
      ]
    },
    {
      "cell_type": "code",
      "source": "tuple1 = (('a', 11), ('b', 12), ('c', 13), ('d', 14))\ntuple1 = tuple(sorted(list(tuple1), key=lambda x: x[1]))\nprint(t1)",
      "metadata": {
        "trusted": true
      },
      "execution_count": 47,
      "outputs": [
        {
          "ename": "<class 'TypeError'>",
          "evalue": "'list' object is not callable",
          "traceback": [
            "\u001b[0;31m---------------------------------------------------------------------------\u001b[0m",
            "\u001b[0;31mTypeError\u001b[0m                                 Traceback (most recent call last)",
            "Cell \u001b[0;32mIn[45], line 2\u001b[0m\n\u001b[1;32m      1\u001b[0m tuple1 \u001b[38;5;241m=\u001b[39m ((\u001b[38;5;124m'\u001b[39m\u001b[38;5;124ma\u001b[39m\u001b[38;5;124m'\u001b[39m, \u001b[38;5;241m11\u001b[39m), (\u001b[38;5;124m'\u001b[39m\u001b[38;5;124mb\u001b[39m\u001b[38;5;124m'\u001b[39m, \u001b[38;5;241m12\u001b[39m), (\u001b[38;5;124m'\u001b[39m\u001b[38;5;124mc\u001b[39m\u001b[38;5;124m'\u001b[39m, \u001b[38;5;241m13\u001b[39m), (\u001b[38;5;124m'\u001b[39m\u001b[38;5;124md\u001b[39m\u001b[38;5;124m'\u001b[39m, \u001b[38;5;241m14\u001b[39m))\n\u001b[0;32m----> 2\u001b[0m tuple1 \u001b[38;5;241m=\u001b[39m \u001b[38;5;28mtuple\u001b[39m(\u001b[38;5;28msorted\u001b[39m(\u001b[38;5;28;43mlist\u001b[39;49m\u001b[43m(\u001b[49m\u001b[43mtuple1\u001b[49m\u001b[43m)\u001b[49m, key\u001b[38;5;241m=\u001b[39m\u001b[38;5;28;01mlambda\u001b[39;00m x: x[\u001b[38;5;241m1\u001b[39m]))\n\u001b[1;32m      3\u001b[0m \u001b[38;5;28mprint\u001b[39m(t1)\n",
            "\u001b[0;31mTypeError\u001b[0m: 'list' object is not callable"
          ],
          "output_type": "error"
        }
      ]
    },
    {
      "cell_type": "code",
      "source": "t1 = (50, 10, 60, 70, 50)\nprint(t1.count(50))\n",
      "metadata": {
        "trusted": true
      },
      "execution_count": 48,
      "outputs": [
        {
          "name": "stdout",
          "text": "2\n",
          "output_type": "stream"
        }
      ]
    },
    {
      "cell_type": "code",
      "source": "set = {\"Yellow\", \"Orange\", \"Black\"}\nlist = [\"Blue\", \"Green\", \"Red\"]\nset.update(list)\nprint(set)\n",
      "metadata": {
        "trusted": true
      },
      "execution_count": 49,
      "outputs": [
        {
          "name": "stdout",
          "text": "{'Green', 'Red', 'Black', 'Yellow', 'Blue', 'Orange'}\n",
          "output_type": "stream"
        }
      ]
    },
    {
      "cell_type": "code",
      "source": "def check(t):\n    return all(i == t[0] for i in t)\nt1 = (45, 45, 45, 45)\nprint(check(t1))\n",
      "metadata": {
        "trusted": true
      },
      "execution_count": 50,
      "outputs": [
        {
          "name": "stdout",
          "text": "True\n",
          "output_type": "stream"
        }
      ]
    },
    {
      "cell_type": "code",
      "source": "set1 = {10, 20, 30, 40, 50}\nset2 = {30, 40, 50, 60, 70}\nprint(set1.intersection(set2))\n",
      "metadata": {
        "trusted": true
      },
      "execution_count": 51,
      "outputs": [
        {
          "name": "stdout",
          "text": "{40, 50, 30}\n",
          "output_type": "stream"
        }
      ]
    },
    {
      "cell_type": "code",
      "source": "set1 = {10, 20, 30, 40, 50}\nset2 = {30, 40, 50, 60, 70}\nprint(set1.union(set2))\n",
      "metadata": {
        "trusted": true
      },
      "execution_count": 52,
      "outputs": [
        {
          "name": "stdout",
          "text": "{70, 40, 10, 50, 20, 60, 30}\n",
          "output_type": "stream"
        }
      ]
    },
    {
      "cell_type": "code",
      "source": "set1 = {10, 20, 30}\nset2 = {20, 40, 50}\nset1.difference_update(set2)\nprint(set1)\n",
      "metadata": {
        "trusted": true
      },
      "execution_count": 53,
      "outputs": [
        {
          "name": "stdout",
          "text": "{10, 30}\n",
          "output_type": "stream"
        }
      ]
    },
    {
      "cell_type": "code",
      "source": "set1 = {10, 20, 30, 40, 50}\nset1.difference_update({10, 20, 30})\nprint(set1)\n",
      "metadata": {
        "trusted": true
      },
      "execution_count": 54,
      "outputs": [
        {
          "name": "stdout",
          "text": "{50, 40}\n",
          "output_type": "stream"
        }
      ]
    },
    {
      "cell_type": "code",
      "source": "set1 = {10, 20, 30, 40, 50}\nset2 = {30, 40, 50, 60, 70}\nprint(set1.symmetric_difference(set2))\n",
      "metadata": {
        "trusted": true
      },
      "execution_count": 55,
      "outputs": [
        {
          "name": "stdout",
          "text": "{20, 70, 10, 60}\n",
          "output_type": "stream"
        }
      ]
    },
    {
      "cell_type": "code",
      "source": "set1 = {10, 20, 30, 40, 50}\nset2 = {60, 70, 80, 90, 10}\nif set1.isdisjoint(set2):\n  print(\"Two sets have no items in common\")\nelse:\n  print(\"Two sets have items in common\")\n  print(set1.intersection(set2))\n",
      "metadata": {
        "trusted": true
      },
      "execution_count": 56,
      "outputs": [
        {
          "name": "stdout",
          "text": "Two sets have items in common\n{10}\n",
          "output_type": "stream"
        }
      ]
    },
    {
      "cell_type": "code",
      "source": "set1 = {10, 20, 30, 40, 50}\nset2 = {30, 40, 50, 60, 70}\nset1.intersection_update(set2)\nprint(set1)",
      "metadata": {
        "trusted": true
      },
      "execution_count": 57,
      "outputs": [
        {
          "name": "stdout",
          "text": "{40, 50, 30}\n",
          "output_type": "stream"
        }
      ]
    }
  ]
}