{
  "metadata": {
    "language_info": {
      "codemirror_mode": {
        "name": "python",
        "version": 3
      },
      "file_extension": ".py",
      "mimetype": "text/x-python",
      "name": "python",
      "nbconvert_exporter": "python",
      "pygments_lexer": "ipython3",
      "version": "3.8"
    },
    "kernelspec": {
      "name": "python",
      "display_name": "Python (Pyodide)",
      "language": "python"
    }
  },
  "nbformat_minor": 4,
  "nbformat": 4,
  "cells": [
    {
      "cell_type": "code",
      "source": "number_list = []\nn = input(\"Enter the list size \")\n\nprint(\"\\n\")\nfor i in range(0, 10):\n    print(\"Enter number at index\", i, )\n    item = input()\n    number_list.append(item)\nprint(\"User list is \", number_list)",
      "metadata": {
        "trusted": true
      },
      "execution_count": 1,
      "outputs": [
        {
          "name": "stdout",
          "text": "\n\nEnter number at index 0\nEnter number at index 1\nEnter number at index 2\nEnter number at index 3\nEnter number at index 4\nEnter number at index 5\nEnter number at index 6\nEnter number at index 7\nEnter number at index 8\nEnter number at index 9\nUser list is  [<PyodideFuture pending cb=[WebLoop._decrement_in_progress()]>, <PyodideFuture pending cb=[WebLoop._decrement_in_progress()]>, <PyodideFuture pending cb=[WebLoop._decrement_in_progress()]>, <PyodideFuture pending cb=[WebLoop._decrement_in_progress()]>, <PyodideFuture pending cb=[WebLoop._decrement_in_progress()]>, <PyodideFuture pending cb=[WebLoop._decrement_in_progress()]>, <PyodideFuture pending cb=[WebLoop._decrement_in_progress()]>, <PyodideFuture pending cb=[WebLoop._decrement_in_progress()]>, <PyodideFuture pending cb=[WebLoop._decrement_in_progress()]>, <PyodideFuture pending cb=[WebLoop._decrement_in_progress()]>]\n",
          "output_type": "stream"
        }
      ]
    },
    {
      "cell_type": "code",
      "source": "# creating an empty list\nlst = []\n\n# number of elements as input\nn = input(\"Enter number of elements : \")\n\n# iterating till the range\nfor i in range(0, n):\n\tele = int(input())\n\n\tlst.append(ele) # adding the element\n\t\nprint(lst)\n",
      "metadata": {
        "trusted": true
      },
      "execution_count": 2,
      "outputs": [
        {
          "ename": "<class 'TypeError'>",
          "evalue": "'PyodideFuture' object cannot be interpreted as an integer",
          "traceback": [
            "\u001b[0;31m---------------------------------------------------------------------------\u001b[0m",
            "\u001b[0;31mTypeError\u001b[0m                                 Traceback (most recent call last)",
            "Cell \u001b[0;32mIn[2], line 8\u001b[0m\n\u001b[1;32m      5\u001b[0m n \u001b[38;5;241m=\u001b[39m \u001b[38;5;28minput\u001b[39m(\u001b[38;5;124m\"\u001b[39m\u001b[38;5;124mEnter number of elements : \u001b[39m\u001b[38;5;124m\"\u001b[39m)\n\u001b[1;32m      7\u001b[0m \u001b[38;5;66;03m# iterating till the range\u001b[39;00m\n\u001b[0;32m----> 8\u001b[0m \u001b[38;5;28;01mfor\u001b[39;00m i \u001b[38;5;129;01min\u001b[39;00m \u001b[38;5;28;43mrange\u001b[39;49m\u001b[43m(\u001b[49m\u001b[38;5;241;43m0\u001b[39;49m\u001b[43m,\u001b[49m\u001b[43m \u001b[49m\u001b[43mn\u001b[49m\u001b[43m)\u001b[49m:\n\u001b[1;32m      9\u001b[0m \tele \u001b[38;5;241m=\u001b[39m \u001b[38;5;28mint\u001b[39m(\u001b[38;5;28minput\u001b[39m())\n\u001b[1;32m     11\u001b[0m \tlst\u001b[38;5;241m.\u001b[39mappend(ele) \u001b[38;5;66;03m# adding the element\u001b[39;00m\n",
            "\u001b[0;31mTypeError\u001b[0m: 'PyodideFuture' object cannot be interpreted as an integer"
          ],
          "output_type": "error"
        }
      ]
    },
    {
      "cell_type": "code",
      "source": "numbers = []\nfor i in range(0, 5):\n    print(\"Enter number at location\", i, \":\")\n    item = float(input())\n    numbers.append(item)\nprint(\"User List:\", numbers)",
      "metadata": {
        "trusted": true
      },
      "execution_count": 3,
      "outputs": [
        {
          "name": "stdout",
          "text": "Enter number at location 0 :\n",
          "output_type": "stream"
        },
        {
          "ename": "<class 'TypeError'>",
          "evalue": "float() argument must be a string or a real number, not 'PyodideFuture'",
          "traceback": [
            "\u001b[0;31m---------------------------------------------------------------------------\u001b[0m",
            "\u001b[0;31mTypeError\u001b[0m                                 Traceback (most recent call last)",
            "Cell \u001b[0;32mIn[3], line 8\u001b[0m\n\u001b[1;32m      6\u001b[0m \u001b[38;5;28mprint\u001b[39m(\u001b[38;5;124m\"\u001b[39m\u001b[38;5;124mEnter number at location\u001b[39m\u001b[38;5;124m\"\u001b[39m, i, \u001b[38;5;124m\"\u001b[39m\u001b[38;5;124m:\u001b[39m\u001b[38;5;124m\"\u001b[39m)\n\u001b[1;32m      7\u001b[0m \u001b[38;5;66;03m# accept float number from user\u001b[39;00m\n\u001b[0;32m----> 8\u001b[0m item \u001b[38;5;241m=\u001b[39m \u001b[38;5;28;43mfloat\u001b[39;49m\u001b[43m(\u001b[49m\u001b[38;5;28;43minput\u001b[39;49m\u001b[43m(\u001b[49m\u001b[43m)\u001b[49m\u001b[43m)\u001b[49m\n\u001b[1;32m      9\u001b[0m \u001b[38;5;66;03m# add it to the list\u001b[39;00m\n\u001b[1;32m     10\u001b[0m numbers\u001b[38;5;241m.\u001b[39mappend(item)\n",
            "\u001b[0;31mTypeError\u001b[0m: float() argument must be a string or a real number, not 'PyodideFuture'"
          ],
          "output_type": "error"
        }
      ]
    },
    {
      "cell_type": "code",
      "source": "",
      "metadata": {},
      "execution_count": null,
      "outputs": []
    },
    {
      "cell_type": "code",
      "source": "a, b, c = input(\"Enter three values: \").split()\nprint(\"Enter Your First Name: \", a)  \nprint(\"Enter Your Last Name: \", b)  \nprint(\"Enter Your Class: \", c)  \nprint(\"First name {},Second name {}, Class {}\".format(a,b,c))  ",
      "metadata": {
        "trusted": true
      },
      "execution_count": 4,
      "outputs": [
        {
          "ename": "<class 'RuntimeError'>",
          "evalue": "await wasn't used with future",
          "traceback": [
            "\u001b[0;31m---------------------------------------------------------------------------\u001b[0m",
            "\u001b[0;31mRuntimeError\u001b[0m                              Traceback (most recent call last)",
            "Cell \u001b[0;32mIn[4], line 1\u001b[0m\n\u001b[0;32m----> 1\u001b[0m a, b, c \u001b[38;5;241m=\u001b[39m \u001b[38;5;28minput\u001b[39m(\u001b[38;5;124m\"\u001b[39m\u001b[38;5;124mEnter three values: \u001b[39m\u001b[38;5;124m\"\u001b[39m)\n\u001b[1;32m      2\u001b[0m \u001b[38;5;28mprint\u001b[39m(\u001b[38;5;124m\"\u001b[39m\u001b[38;5;124mEnter Your First Name: \u001b[39m\u001b[38;5;124m\"\u001b[39m, a)  \n\u001b[1;32m      3\u001b[0m \u001b[38;5;28mprint\u001b[39m(\u001b[38;5;124m\"\u001b[39m\u001b[38;5;124mEnter Your Last Name: \u001b[39m\u001b[38;5;124m\"\u001b[39m, b)  \n",
            "File \u001b[0;32m/lib/python3.10/asyncio/futures.py:286\u001b[0m, in \u001b[0;36mFuture.__await__\u001b[0;34m(self)\u001b[0m\n\u001b[1;32m    284\u001b[0m     \u001b[38;5;28;01myield\u001b[39;00m \u001b[38;5;28mself\u001b[39m  \u001b[38;5;66;03m# This tells Task to wait for completion.\u001b[39;00m\n\u001b[1;32m    285\u001b[0m \u001b[38;5;28;01mif\u001b[39;00m \u001b[38;5;129;01mnot\u001b[39;00m \u001b[38;5;28mself\u001b[39m\u001b[38;5;241m.\u001b[39mdone():\n\u001b[0;32m--> 286\u001b[0m     \u001b[38;5;28;01mraise\u001b[39;00m \u001b[38;5;167;01mRuntimeError\u001b[39;00m(\u001b[38;5;124m\"\u001b[39m\u001b[38;5;124mawait wasn\u001b[39m\u001b[38;5;124m'\u001b[39m\u001b[38;5;124mt used with future\u001b[39m\u001b[38;5;124m\"\u001b[39m)\n\u001b[1;32m    287\u001b[0m \u001b[38;5;28;01mreturn\u001b[39;00m \u001b[38;5;28mself\u001b[39m\u001b[38;5;241m.\u001b[39mresult()\n",
            "\u001b[0;31mRuntimeError\u001b[0m: await wasn't used with future"
          ],
          "output_type": "error"
        }
      ]
    },
    {
      "cell_type": "code",
      "source": "",
      "metadata": {},
      "execution_count": null,
      "outputs": []
    },
    {
      "cell_type": "code",
      "source": "# Python program to Count Alphabets Digits and Special Characters in a String\n \nstring = input(\"Please Enter your Own String : \")\nalphabets = digits = special = 0\n\nfor i in range(len(string)):\n    if(string[i].isalpha()):\n        alphabets = alphabets + 1\n    elif(string[i].isdigit()):\n        digits = digits + 1\n    else:\n        special = special + 1\n        \nprint(\"\\nTotal Number of Alphabets in this String :  \", alphabets)\nprint(\"Total Number of Digits in this String :  \", digits)\nprint(\"Total Number of Special Characters in this String :  \", special)",
      "metadata": {
        "trusted": true
      },
      "execution_count": 5,
      "outputs": [
        {
          "ename": "<class 'TypeError'>",
          "evalue": "object of type 'PyodideFuture' has no len()",
          "traceback": [
            "\u001b[0;31m---------------------------------------------------------------------------\u001b[0m",
            "\u001b[0;31mTypeError\u001b[0m                                 Traceback (most recent call last)",
            "Cell \u001b[0;32mIn[5], line 6\u001b[0m\n\u001b[1;32m      3\u001b[0m string \u001b[38;5;241m=\u001b[39m \u001b[38;5;28minput\u001b[39m(\u001b[38;5;124m\"\u001b[39m\u001b[38;5;124mPlease Enter your Own String : \u001b[39m\u001b[38;5;124m\"\u001b[39m)\n\u001b[1;32m      4\u001b[0m alphabets \u001b[38;5;241m=\u001b[39m digits \u001b[38;5;241m=\u001b[39m special \u001b[38;5;241m=\u001b[39m \u001b[38;5;241m0\u001b[39m\n\u001b[0;32m----> 6\u001b[0m \u001b[38;5;28;01mfor\u001b[39;00m i \u001b[38;5;129;01min\u001b[39;00m \u001b[38;5;28mrange\u001b[39m(\u001b[38;5;28;43mlen\u001b[39;49m\u001b[43m(\u001b[49m\u001b[43mstring\u001b[49m\u001b[43m)\u001b[49m):\n\u001b[1;32m      7\u001b[0m     \u001b[38;5;28;01mif\u001b[39;00m(string[i]\u001b[38;5;241m.\u001b[39misalpha()):\n\u001b[1;32m      8\u001b[0m         alphabets \u001b[38;5;241m=\u001b[39m alphabets \u001b[38;5;241m+\u001b[39m \u001b[38;5;241m1\u001b[39m\n",
            "\u001b[0;31mTypeError\u001b[0m: object of type 'PyodideFuture' has no len()"
          ],
          "output_type": "error"
        }
      ]
    },
    {
      "cell_type": "code",
      "source": "#taking string as an input from the user\nstring = input(\"Enter a String : \")\nalphabets=0\ndigits=0\nspecialChars=0\n#checks for each character in the string\nfor i in string: \n\t#if character of the string is an alphabet\n    \t\tif i.isalpha():\n       \t\t\t alphabets+=1\n\t\t#if character of the string is a digit\n    \t\telif i.isdigit():\n        \t\t\tdigits+=1\n    \t\telse: #if character of the string is a special character\n        \t\t\tspecialChars+=1\nprint(\"alphabets =\",alphabets,\"digits =\",digits,\"specialChars =\",specialChars)",
      "metadata": {
        "trusted": true
      },
      "execution_count": 6,
      "outputs": [
        {
          "ename": "<class 'AttributeError'>",
          "evalue": "'PyodideFuture' object has no attribute 'isalpha'",
          "traceback": [
            "\u001b[0;31m---------------------------------------------------------------------------\u001b[0m",
            "\u001b[0;31mAttributeError\u001b[0m                            Traceback (most recent call last)",
            "Cell \u001b[0;32mIn[6], line 9\u001b[0m\n\u001b[1;32m      6\u001b[0m \u001b[38;5;66;03m#checks for each character in the string\u001b[39;00m\n\u001b[1;32m      7\u001b[0m \u001b[38;5;28;01mfor\u001b[39;00m i \u001b[38;5;129;01min\u001b[39;00m string: \n\u001b[1;32m      8\u001b[0m \t\u001b[38;5;66;03m#if character of the string is an alphabet\u001b[39;00m\n\u001b[0;32m----> 9\u001b[0m     \t\t\u001b[38;5;28;01mif\u001b[39;00m \u001b[43mi\u001b[49m\u001b[38;5;241;43m.\u001b[39;49m\u001b[43misalpha\u001b[49m():\n\u001b[1;32m     10\u001b[0m        \t\t\t alphabets\u001b[38;5;241m+\u001b[39m\u001b[38;5;241m=\u001b[39m\u001b[38;5;241m1\u001b[39m\n\u001b[1;32m     11\u001b[0m \t\t\u001b[38;5;66;03m#if character of the string is a digit\u001b[39;00m\n",
            "\u001b[0;31mAttributeError\u001b[0m: 'PyodideFuture' object has no attribute 'isalpha'"
          ],
          "output_type": "error"
        }
      ]
    }
  ]
}